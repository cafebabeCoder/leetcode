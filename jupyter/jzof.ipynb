{
 "cells": [
  {
   "cell_type": "code",
   "execution_count": 6,
   "metadata": {},
   "outputs": [],
   "source": [
    "from typing import List"
   ]
  },
  {
   "cell_type": "code",
   "execution_count": 12,
   "metadata": {},
   "outputs": [],
   "source": [
    "class ListNode:\n",
    "    def __init__(self, val=0, next=None):\n",
    "        self.val = val\n",
    "        self.next = nex"
   ]
  },
  {
   "cell_type": "code",
   "execution_count": 14,
   "metadata": {},
   "outputs": [],
   "source": [
    "class TreeNode(object):\n",
    "    def __init__(self, x):\n",
    "        self.val = x\n",
    "        self.left = None\n",
    "        self.right = None"
   ]
  },
  {
   "cell_type": "markdown",
   "metadata": {},
   "source": [
    "### 高频题"
   ]
  },
  {
   "cell_type": "markdown",
   "metadata": {},
   "source": [
    "### No.215 快排\n",
    "给定整数数组 nums 和整数 k，请返回数组中第 k 个最大的元素。\n",
    "请注意，你需要找的是数组排序后的第 k 个最大的元素，而不是第 k 个不同的元素。\n",
    "\n",
    "输入: [3,2,1,5,6,4] 和 k = 2<br>\n",
    "输出: 5\n",
    "\n",
    "hint:\n",
    "1. 判断外层条件\n",
    "2. i, j 两个指针从两端往中间移动，每移动一次需要判断i < j；退出套件是 i == j\n",
    "3. 从右边开始，找到第一个小于 哨兵的值，赋给左边指针\n",
    "4. 从左边开始，找到第一个大于哨兵的值，赋给右边指针\n",
    "5. 退出时 i==j ， 把哨兵赋值给i\n",
    "6. 分治数组左边和右边"
   ]
  },
  {
   "cell_type": "markdown",
   "metadata": {},
   "source": [
    "【排序】"
   ]
  },
  {
   "cell_type": "code",
   "execution_count": 3,
   "metadata": {},
   "outputs": [],
   "source": [
    "def quickSort(self, nums, left, right):\n",
    "    # 一定不要忘了外层判断\n",
    "    if left < right:\n",
    "        i = left\n",
    "        j = right\n",
    "        tmp = nums[left]\n",
    "        while i < j:\n",
    "            # 从右边往左找到小于tmp的数，赋值给 左边 移动指针\n",
    "            while i<j and tmp <= nums[j]:\n",
    "                j -= 1\n",
    "            nums[i] = nums[j]\n",
    "\n",
    "            # 从左往右找到大于tmp的数，赋值给右边移动指针.\n",
    "            while i<j and nums[i] <= tmp:\n",
    "                i += 1 \n",
    "            nums[j] = nums[i]\n",
    "\n",
    "        # i=j 退出， 然后这个位置就是哨兵\n",
    "        nums[i] = tmp\n",
    "        # 分治， 左闭右闭 \n",
    "        self.quickSort(nums, left, i - 1)\n",
    "        self.quickSort(nums, i+1, right)\n",
    "    return nums"
   ]
  },
  {
   "cell_type": "markdown",
   "metadata": {},
   "source": [
    "### No.3 数组中的重复数字\n",
    "在一个长度为 n 的数组 nums 里的所有数字都在 0～n-1 的范围内。数组中某些数字是重复的，但不知道有几个数字重复了，也不知道每个数字重复了几次。请找出数组中任意一个重复的数字。<br>\n",
    "\n",
    "输入：[2, 3, 1, 0, 2, 5, 3] <br>\n",
    "输出：2 或 3 \n",
    "\n",
    "hint:<br>\n",
    "解法1. 创建O(n)数组，时间复杂度O(n). <br>\n",
    "解法2. 改变数组，用值和下标的关系. 如果索引i和索引array[i]都没有放对，则交换， 把值array[i]放到对应的索引上。此时值array[i]改变了，再看 i array[i]放对没有。 退出条件有2种可能：① 索引i放对了， i++ ② 索引i还没放对，需要把array[i]放到对应位置，但是array[i]上的值已经是array[i]了。"
   ]
  },
  {
   "cell_type": "code",
   "execution_count": 12,
   "metadata": {},
   "outputs": [],
   "source": [
    "def findRepeatNumber(nums):\n",
    "    \"\"\"\n",
    "    :type nums: List[int]\n",
    "    :rtype: int\n",
    "    \"\"\"\n",
    "    if len(nums) == 0:\n",
    "        return -1\n",
    "    index = 0\n",
    "    while(index < len(nums)):\n",
    "        while(nums[index] != index and nums[index]!=nums[nums[index]]):\n",
    "            tmp = nums[nums[index]]\n",
    "            nums[nums[index]] = nums[index]\n",
    "            nums[index] = tmp\n",
    "        if nums[index] == index:\n",
    "            index += 1\n",
    "        else:\n",
    "            return nums[index]"
   ]
  },
  {
   "cell_type": "markdown",
   "metadata": {},
   "source": [
    "3.题目变现:在一个长度为 n 的数组 nums 里的所有数字都在 0～n-1 的范围内。<br>\n",
    "不改变数组，二分查找 (感觉这个解法不好，没有意义)"
   ]
  },
  {
   "cell_type": "code",
   "execution_count": 57,
   "metadata": {},
   "outputs": [],
   "source": [
    "def findRepeatNumber(nums):\n",
    "    \"\"\"\n",
    "    :type nums: List[int]\n",
    "    :rtype: int\n",
    "    \"\"\"\n",
    "    low = 0\n",
    "    high = len(nums) - 1\n",
    "    while low <= high:\n",
    "        middle = int((high - low)/2 + low)\n",
    "        if numCount(nums, low, middle) > middle-low+1:\n",
    "            high = middle\n",
    "        else:\n",
    "            low = middle + 1\n",
    "        if (low == high):\n",
    "            if numCount(nums, low, middle) > 1:\n",
    "                return low\n",
    "            else:\n",
    "                break\n",
    "\n",
    "def numCount(nums, low, high):\n",
    "    count = 0\n",
    "    for num in nums:\n",
    "        if num <= high and num>=low:\n",
    "            count+=1\n",
    "    return count"
   ]
  },
  {
   "cell_type": "code",
   "execution_count": 58,
   "metadata": {},
   "outputs": [],
   "source": [
    "findRepeatNumber([0, 1, 2, 0, 4, 5, 6, 7, 8, 9])      "
   ]
  },
  {
   "cell_type": "markdown",
   "metadata": {},
   "source": [
    "### No. 4 二维数组查找\n",
    "在一个 n * m 的二维数组中，每一行都按照从左到右递增的顺序排序，每一列都按照从上到下递增的顺序排序。请完成一个高效的函数，输入这样的一个二维数组和一个整数，判断数组中是否含有该整数。\n",
    "\n",
    "[<br>\n",
    "  [1,   4,  7, 11, 15], <br>\n",
    "  [2,   5,  8, 12, 19],<br>\n",
    "  [3,   6,  9, 16, 22],<br>\n",
    "  [10, 13, 14, 17, 24],<br>\n",
    "  [18, 21, 23, 26, 30]<br>\n",
    "]\n",
    "\n",
    "给定 target = 5，返回 true。\n",
    "给定 target = 20，返回 false。\n",
    "\n",
    "hint: 选右上角为基准点， 每次往下或往左走。"
   ]
  },
  {
   "cell_type": "code",
   "execution_count": 7,
   "metadata": {},
   "outputs": [],
   "source": [
    "def searchMatrix(self, matrix: List[List[int]], target: int) -> bool:\n",
    "    i = 0\n",
    "    j = len(matrix[0]) - 1\n",
    "\n",
    "    while i < len(matrix) and j >= 0:\n",
    "        if matrix[i][j] == target:\n",
    "            return True\n",
    "        elif matrix[i][j] < target:\n",
    "            i = i + 1\n",
    "        elif matrix[i][j] > target:\n",
    "            j = j - 1\n",
    "\n",
    "    return False"
   ]
  },
  {
   "cell_type": "markdown",
   "metadata": {},
   "source": [
    "##### No.7 重建二叉树\n",
    "输入某二叉树的前序遍历和中序遍历的结果，请重建该二叉树。假设输入的前序遍历和中序遍历的结果中都不含重复的数字。<br>\n",
    "前序遍历 preorder = [3,9,20,15,7]<br>\n",
    "中序遍历 inorder = [9,3,15,20,7]"
   ]
  },
  {
   "cell_type": "code",
   "execution_count": 120,
   "metadata": {},
   "outputs": [],
   "source": [
    "class TreeNode(object):\n",
    "    def __init__(self, x):\n",
    "        self.val = x\n",
    "        self.left = None\n",
    "        self.right = None\n",
    "def buildTree(preorder, inorder):\n",
    "    \"\"\"\n",
    "    :type preorder: List[int]\n",
    "    :type inorder: List[int]\n",
    "    :rtype: TreeNode\n",
    "    \"\"\"\n",
    "    if len(preorder)!=len(inorder) or len(preorder) <=0:\n",
    "        return None\n",
    "    return buildRoot(preorder, inorder, 0, len(preorder)-1, 0, len(inorder)-1)\n",
    "\n",
    "def buildRoot(preorder, inorder, preStart, preEnd, inStart, inEnd):\n",
    "    root = TreeNode(preorder[preStart])\n",
    "    if preStart==preEnd and inStart== inEnd:\n",
    "        return root\n",
    "    rootInorderIndex = inStart\n",
    "    for rootInorderIndex in range(inStart, inEnd+1, 1):\n",
    "        if inorder[rootInorderIndex] == preorder[preStart]:\n",
    "            break\n",
    "    leftLength = rootInorderIndex - inStart\n",
    "#     print(rootInorderIndex, leftLength, preStart, preEnd, inStart, inEnd, s)\n",
    "    if leftLength > 0:\n",
    "        root.left = buildRoot(preorder, inorder, preStart+1, preStart+leftLength, inStart, rootInorderIndex-1)\n",
    "    if leftLength < preEnd - preStart:\n",
    "        root.right = buildRoot(preorder, inorder, preStart+1+leftLength, preEnd, rootInorderIndex+1, inEnd)\n",
    "    return root"
   ]
  },
  {
   "cell_type": "markdown",
   "metadata": {},
   "source": [
    "注意：判断是否需要新建左右子树，即 if leftLength > 0: 部分， 否则指针会end > start"
   ]
  },
  {
   "cell_type": "code",
   "execution_count": 119,
   "metadata": {},
   "outputs": [],
   "source": [
    "root=buildTree([],[])"
   ]
  },
  {
   "cell_type": "markdown",
   "metadata": {},
   "source": [
    "#### No.10斐波那契数"
   ]
  },
  {
   "cell_type": "markdown",
   "metadata": {},
   "source": [
    "1. 递归解法太低效了，重复计算太多。参考labuladong的动态规划解法。\n",
    "2. 等同于青蛙跳台阶， 青蛙一次可以调1级台阶或者2级台阶，问n级台阶一共有多少跳法。 f(n)=f(n-1)+f(n-2)"
   ]
  },
  {
   "cell_type": "code",
   "execution_count": 8,
   "metadata": {},
   "outputs": [],
   "source": [
    "def numWays(self, n: int) -> int:\n",
    "    if n == 0 or n == 1:\n",
    "        return 1\n",
    "    f0 = 1\n",
    "    f1 = 1 \n",
    "    for i in range(1, n, 1):\n",
    "        tmp = f0 + f1\n",
    "        f0 = f1\n",
    "        f1 =tmp %(1e9+7)\n",
    "    return int(f1%(1e9+7))"
   ]
  },
  {
   "cell_type": "markdown",
   "metadata": {},
   "source": [
    "#### No.11旋转数组最小的值  先增后减数组最小值 二分查找"
   ]
  },
  {
   "cell_type": "code",
   "execution_count": 9,
   "metadata": {},
   "outputs": [],
   "source": [
    "def findMin(self, nums: List[int]) -> int:\n",
    "    i = 0\n",
    "    j = len(nums) - 1\n",
    "\n",
    "    while i < j and nums[i] >= nums[j]:\n",
    "        m = int((j- i )/2) + i\n",
    "        # 通过三头都相等，无法移动坐标\n",
    "        #  [2, 2, 2, 0, 2] 或者 [2, 0, 2, 2, 2] \n",
    "        if nums[m] == nums[i] and nums[m] == nums[j]:\n",
    "            return self.order(nums, i, j)\n",
    "        # m > i ->  最小数在i之后\n",
    "        # m == i -> j!=i 所以 j<i, 最小数还是在i之后。\n",
    "        if nums[m] >= nums[i]:\n",
    "            i = m + 1\n",
    "        # m < i  -> 最小数在m(包括m之前) \n",
    "        elif nums[m] < nums[i]:\n",
    "            j = m\n",
    "    return nums[i]\n",
    "\n",
    "def order(self, nums, low, high):\n",
    "    mins = nums[low]\n",
    "    for k in nums[low:high+1]:\n",
    "        mins = min(mins, k)\n",
    "    return mins"
   ]
  },
  {
   "cell_type": "markdown",
   "metadata": {},
   "source": [
    "#### No.15 请实现一个函数，输入一个整数，输出该数二进制表示中 1 的个数。"
   ]
  },
  {
   "cell_type": "markdown",
   "metadata": {},
   "source": [
    "**hint**<br>\n",
    "位运算技巧： (n-1)&n 相当于把n最右边的1变成0"
   ]
  },
  {
   "cell_type": "code",
   "execution_count": 138,
   "metadata": {},
   "outputs": [],
   "source": [
    "def hammingWeight(n):\n",
    "    \"\"\"\n",
    "    :type n: int\n",
    "    :rtype: int\n",
    "    \"\"\"\n",
    "    count = 0\n",
    "    while(n):\n",
    "        count += 1\n",
    "        n = (n-1)&n\n",
    "    return count"
   ]
  },
  {
   "cell_type": "markdown",
   "metadata": {},
   "source": [
    "### No. 5 替换空格\n",
    "请实现一个函数，把字符串 s 中的每个空格替换成\"%20\"。\n",
    "\n",
    "输入：s = \"We are happy.\" <br>\n",
    "输出：\"We%20are%20happy.\"\n",
    "\n",
    "hint:<br>\n",
    "1. O(n)空间复杂度。 python 用append\n",
    "2. 原地替换，先数下有多少个空格，开辟空间， 然后双指针从后往前移动"
   ]
  },
  {
   "cell_type": "code",
   "execution_count": 10,
   "metadata": {},
   "outputs": [],
   "source": [
    "def replaceSpace(self, s: str) -> str:\n",
    "    res = ''\n",
    "    for c in s:\n",
    "        if c == ' ' :\n",
    "            res = res + \"%20\" \n",
    "        else:\n",
    "            res = res + c\n",
    "\n",
    "    return res"
   ]
  },
  {
   "cell_type": "code",
   "execution_count": null,
   "metadata": {},
   "outputs": [],
   "source": []
  },
  {
   "cell_type": "markdown",
   "metadata": {},
   "source": [
    "#### No.25 合并递增排序链表"
   ]
  },
  {
   "cell_type": "code",
   "execution_count": 13,
   "metadata": {},
   "outputs": [],
   "source": [
    "# 递归写法\n",
    "def mergeTwoLists(self, l1: ListNode, l2: ListNode) -> ListNode:\n",
    "    if l2 == None:\n",
    "        return l1\n",
    "    if l1 == None:\n",
    "        return l2\n",
    "    if l1.val < l2.val:\n",
    "        head = l1\n",
    "        head.next = self.mergeTwoLists(l1.next, l2)\n",
    "    else:\n",
    "        head = l2\n",
    "        head.next = self.mergeTwoLists(l1, l2.next)\n",
    "    return head\n",
    "\n",
    "\n",
    "# while循环写法\n",
    "def mergeTwoLists1(self, l1: ListNode, l2: ListNode) -> ListNode:\n",
    "    head = n = None\n",
    "    if l1 is None and l2 is None:\n",
    "        return None\n",
    "    if l1 is None:\n",
    "        head = n = l2 \n",
    "        l2 = l2.next\n",
    "    elif l2 is None:\n",
    "        head = n = l1\n",
    "        l1 = l1.next\n",
    "    else:\n",
    "        if l1.val > l2.val:\n",
    "            head = n = l2\n",
    "            l2 = l2.next\n",
    "        else:\n",
    "            head = n = l1\n",
    "            l1 = l1.next\n",
    "\n",
    "    while l1!= None and l2 !=None:\n",
    "        if l1.val < l2.val:\n",
    "            n.next = l1\n",
    "            l1 = l1.next\n",
    "        else:\n",
    "            n.next = l2\n",
    "            l2 = l2.next\n",
    "        n = n.next\n",
    "    if l2!=None:\n",
    "        n.next = l2\n",
    "    if l1!=None:\n",
    "        n.next = l1\n",
    "    return head"
   ]
  },
  {
   "cell_type": "markdown",
   "metadata": {},
   "source": [
    "#### No.26 判断树的子结构\n",
    "\n",
    "输入两棵二叉树A和B，判断B是不是A的子结构。(约定空树不是任意一个树的子结构)<br>\n",
    "B是A的子结构， 即 A中有出现和B相同的结构和节点值。\n",
    "\n",
    "例如: <br>\n",
    "给定的树 A:\n",
    "\n",
    "&nbsp;&nbsp;&nbsp;&nbsp;&nbsp;3 <br>\n",
    "&nbsp;&nbsp;&nbsp;&nbsp;/&nbsp;\\ <br>\n",
    "&nbsp;&nbsp;&nbsp;4&nbsp;&nbsp;&nbsp;5 <br>\n",
    "&nbsp;&nbsp;/&nbsp;\\ <br>\n",
    "&nbsp;1&nbsp;&nbsp;&nbsp;2 <br>\n",
    "给定的树 B： \n",
    "\n",
    "&nbsp;&nbsp;&nbsp;4 <br>\n",
    "&nbsp;&nbsp;/  <br>\n",
    "&nbsp;1  <br>\n",
    "返回 true，因为 B 与 A 的一个子树拥有相同的结构和节点值。\n",
    "\n",
    "输入：A = [1,2,3], B = [3,1] <br>\n",
    "输出：false\n",
    "\n",
    "\n",
    "输入：A = [3,4,5,1,2], B = [4,1] <br>\n",
    "输出：true\n",
    "\n",
    "hint:需要写树的递归遍历"
   ]
  },
  {
   "cell_type": "code",
   "execution_count": 154,
   "metadata": {},
   "outputs": [],
   "source": [
    "def isSubStructure(A, B):\n",
    "    \"\"\"\n",
    "    :type A: TreeNode\n",
    "    :type B: TreeNode\n",
    "    :rtype: bool\n",
    "    \"\"\"\n",
    "    if A is not None and B is not None:\n",
    "        if A.val == B.val:\n",
    "            return isEqual(A, B)\n",
    "        else:\n",
    "            return isSubStructure(A.left, B) or isSubStructure(A.right, B)\n",
    "    else:\n",
    "        return False\n",
    "def isEqual(A, B):\n",
    "    if B is None:\n",
    "        return True\n",
    "    elif A is None:\n",
    "        return False\n",
    "    elif A.val == B.val:\n",
    "        return isEqual(A.left, B.left) and isEqual(A.right, B.right)\n",
    "    else:\n",
    "        return False"
   ]
  },
  {
   "cell_type": "code",
   "execution_count": 156,
   "metadata": {},
   "outputs": [
    {
     "data": {
      "text/plain": [
       "False"
      ]
     },
     "execution_count": 156,
     "metadata": {},
     "output_type": "execute_result"
    }
   ],
   "source": [
    "n1 = TreeNode(3)\n",
    "n2 = TreeNode(4)\n",
    "n3 = TreeNode(5)\n",
    "n4 = TreeNode(1)\n",
    "n5 = TreeNode(2)\n",
    "n6 = TreeNode(4)\n",
    "n7 = TreeNode(1)\n",
    "n1.left = n2\n",
    "n1.right = n3\n",
    "n2.left = n4\n",
    "n2.right = n5\n",
    "n6.right = n7\n",
    "isSubStructure(n1, n6)"
   ]
  },
  {
   "cell_type": "markdown",
   "metadata": {},
   "source": [
    "#### no.27 二叉树的镜像\n",
    "镜像输入：<br>\n",
    "&nbsp;&nbsp;&nbsp;&nbsp;4 <br>\n",
    "&nbsp;&nbsp;&nbsp;/&nbsp;&nbsp;\\ <br>\n",
    "&nbsp;&nbsp;2&nbsp;&nbsp;&nbsp;7 <br>\n",
    "&nbsp;/ \\ &nbsp;/ \\ <br>\n",
    "1   3 6   9<br>\n",
    "镜像输出：<br>\n",
    "&nbsp;&nbsp;&nbsp;&nbsp;4 <br>\n",
    "&nbsp;&nbsp;&nbsp;/&nbsp;&nbsp;\\ <br>\n",
    "&nbsp;&nbsp;7&nbsp;&nbsp;&nbsp;2 <br>\n",
    "&nbsp;/ \\ &nbsp;/ \\ <br>\n",
    "9   6 3   1<br>\n",
    "\n",
    "**示例**<br>\n",
    "输入：root = [4,2,7,1,3,6,9]<br>\n",
    "输出：[4,7,2,9,6,3,1]"
   ]
  },
  {
   "cell_type": "markdown",
   "metadata": {},
   "source": [
    "#### 1. 打印的版本"
   ]
  },
  {
   "cell_type": "code",
   "execution_count": 28,
   "metadata": {},
   "outputs": [],
   "source": [
    "# Definition for a binary tree node.\n",
    "class TreeNode(object):\n",
    "    def __init__(self, x):\n",
    "        self.val = x\n",
    "        self.left = None\n",
    "        self.right = None\n",
    "\n",
    "def mirrorTree(root):\n",
    "    \"\"\"\n",
    "    :type root: TreeNode\n",
    "    :rtype: TreeNode\n",
    "    \"\"\"\n",
    "    res=[]\n",
    "    if root is not None:\n",
    "        res.append(root.val)\n",
    "        treeSearch(root, res)\n",
    "    return res\n",
    "\n",
    "def treeSearch(root, res):\n",
    "    if root.right is not None:\n",
    "        res.append(root.right.val)\n",
    "    if root.left is not None:\n",
    "        res.append(root.left.val)\n",
    "    if root.right is not None:\n",
    "        treeSearch(root.right, res)\n",
    "    if root.left is not None:\n",
    "        treeSearch(root.left, res)"
   ]
  },
  {
   "cell_type": "markdown",
   "metadata": {},
   "source": [
    "#### 2.在原树上翻转"
   ]
  },
  {
   "cell_type": "code",
   "execution_count": null,
   "metadata": {},
   "outputs": [],
   "source": [
    "def mirrorTree(root):\n",
    "    \"\"\"\n",
    "    :type root: TreeNode\n",
    "    :rtype: TreeNode\n",
    "    \"\"\"\n",
    "    if root is None:\n",
    "        return\n",
    "    tmp = root.right\n",
    "    root.right = root.left\n",
    "    root.left = tmp\n",
    "    \n",
    "    if root.left is not None:\n",
    "        mirrorTree(root.left)\n",
    "    if root.right is not None:\n",
    "        mirrorTree(root.right)"
   ]
  },
  {
   "cell_type": "code",
   "execution_count": 29,
   "metadata": {},
   "outputs": [],
   "source": [
    "node4=TreeNode(4)\n",
    "node2=TreeNode(2)\n",
    "node7=TreeNode(7)\n",
    "node1=TreeNode(1)\n",
    "node3=TreeNode(3)\n",
    "node6=TreeNode(6)\n",
    "node9=TreeNode(9)\n",
    "\n",
    "node4.left = node2\n",
    "node4.right=node7\n",
    "node2.left=node1\n",
    "node2.right=node3\n",
    "node7.left=node6\n",
    "node7.right=node9"
   ]
  },
  {
   "cell_type": "code",
   "execution_count": 30,
   "metadata": {},
   "outputs": [
    {
     "data": {
      "text/plain": [
       "[4, 7, 2, 9, 6, 3, 1]"
      ]
     },
     "execution_count": 30,
     "metadata": {},
     "output_type": "execute_result"
    }
   ],
   "source": [
    "mirrorTree(node4)"
   ]
  },
  {
   "cell_type": "markdown",
   "metadata": {},
   "source": [
    "#### No.35 复杂链表的复制\n",
    "输入：head = [[7,null],[13,0],[11,4],[10,2],[1,0]] <br>\n",
    "输出：[[7,null],[13,0],[11,4],[10,2],[1,0]]<br>\n",
    "**hint：**一定要注意链表操作空指针的情况， 在纸上画一画，看是不是有空指针。 弄清楚各个指针具体移动情况"
   ]
  },
  {
   "cell_type": "code",
   "execution_count": 101,
   "metadata": {},
   "outputs": [],
   "source": [
    "# Definition for a Node.\n",
    "class Node:\n",
    "    def __init__(self, x, next=None, random=None):\n",
    "        self.val = int(x)\n",
    "        self.next = next\n",
    "        self.random = random\n",
    "\n",
    "def copyRandomList(head):\n",
    "    \"\"\"\n",
    "    :type head: Node\n",
    "    :rtype: Node\n",
    "    \"\"\"\n",
    "    \n",
    "    if head is None:\n",
    "        return\n",
    "\n",
    "    node = head\n",
    "\n",
    "    while node is not None:\n",
    "        node_copy = Node(node.val)\n",
    "        node_copy.next = node.next\n",
    "        node.next = node_copy\n",
    "        node = node_copy.next\n",
    "    \n",
    "    node = head\n",
    "    while node is not None:\n",
    "        if node.random is not None:\n",
    "            node.next.random = node.random.next\n",
    "        node = node.next.next\n",
    "\n",
    "    head_new = head.next\n",
    "    node_new = head_new\n",
    "    head.next = head_new.next\n",
    "    node = head_new.next\n",
    "    while node is not None:\n",
    "        node_new.next = node.next\n",
    "        node_new = node_new.next\n",
    "        node.next = node_new.next\n",
    "        node = node.next\n",
    "    return head, head_new"
   ]
  },
  {
   "cell_type": "code",
   "execution_count": 100,
   "metadata": {},
   "outputs": [
    {
     "name": "stdout",
     "output_type": "stream",
     "text": [
      "7\n",
      "13\n",
      "11\n",
      "10\n",
      "1\n",
      "----\n",
      "7 null\n",
      "13 7\n",
      "11 1\n",
      "10 11\n",
      "1 7\n",
      "---\n",
      "8 null\n",
      "14 8\n",
      "12 2\n",
      "11 12\n",
      "2 8\n"
     ]
    }
   ],
   "source": [
    "node7 = Node(7)\n",
    "node13 = Node(13)\n",
    "node11= Node(11)\n",
    "node10 = Node(10)\n",
    "node1 = Node(1)\n",
    "node7.next=node13\n",
    "node13.next=node11\n",
    "node11.next=node10\n",
    "node10.next=node1\n",
    "node13.random=node7\n",
    "node11.random=node1\n",
    "node10.random=node11\n",
    "node1.random=node7\n",
    "node = node7\n",
    "while node is not None:\n",
    "    print node.val\n",
    "    node = node.next\n",
    "c, c_new=copyRandomList(node7)\n",
    "print('----')\n",
    "while c is not None:\n",
    "    if c.random is not None:\n",
    "        print c.val, c.random.val\n",
    "    else:\n",
    "        print c.val, 'null'\n",
    "    c = c.next\n",
    "print(\"---\")\n",
    "while c_new is not None:\n",
    "    if c_new.random is not None:\n",
    "        print c_new.val, c_new.random.val\n",
    "    else:\n",
    "        print c_new.val, \"null\"\n",
    "    c_new = c_new.next"
   ]
  },
  {
   "cell_type": "markdown",
   "metadata": {},
   "source": [
    "#### No20. 括号匹配\n",
    "给定一个只包括 '('，')'，'{'，'}'，'['，']' 的字符串，判断字符串是否有效。\n"
   ]
  },
  {
   "cell_type": "code",
   "execution_count": 23,
   "metadata": {},
   "outputs": [],
   "source": [
    "# 栈 依次匹配弹出\n",
    "def isValid(s):\n",
    "    \"\"\"\n",
    "    :type s: str\n",
    "    :rtype: bool\n",
    "    \"\"\"\n",
    "    ch_map = {'(':')','{':'}','[':']'}\n",
    "    str_map=[]\n",
    "    for ch in s:\n",
    "        if ch in ch_map:\n",
    "            str_map.append(ch)\n",
    "        elif ch in ch_map.values():\n",
    "            if len(str_map) >0 and ch_map[str_map[-1]] == ch:\n",
    "                str_map.pop()\n",
    "            else:\n",
    "                return False\n",
    "        else:\n",
    "            return False\n",
    "    if len(str_map) == 0:\n",
    "        return True\n",
    "    else:\n",
    "        return False"
   ]
  },
  {
   "cell_type": "code",
   "execution_count": 21,
   "metadata": {},
   "outputs": [],
   "source": [
    "# 栈2， 插入右括号\n",
    "def isValid(s):\n",
    "    ch_map = {'(':')', '{':'}','[':']'}\n",
    "    str_map = []\n",
    "    for ch in s:\n",
    "        if ch in ch_map:\n",
    "            str_map.append(ch_map[ch])\n",
    "        elif len(str_map)==0 or str_map.pop()!=ch:\n",
    "                return False\n",
    "    return True"
   ]
  },
  {
   "cell_type": "code",
   "execution_count": 22,
   "metadata": {},
   "outputs": [
    {
     "data": {
      "text/plain": [
       "False"
      ]
     },
     "execution_count": 22,
     "metadata": {},
     "output_type": "execute_result"
    }
   ],
   "source": [
    "isValid(\"(]{}})\")"
   ]
  },
  {
   "cell_type": "markdown",
   "metadata": {},
   "source": [
    "#### No17-14 最小k个数\n",
    "给定一个只包括 '('，')'，'{'，'}'，'['，']' 的字符串，判断字符串是否有效。<br>\n",
    "1. 冒泡 超时\n",
    "2. 试下其他数据结构 栈？ 超时\n",
    "2. 树结构\n",
    "3. 快排"
   ]
  },
  {
   "cell_type": "code",
   "execution_count": 36,
   "metadata": {},
   "outputs": [],
   "source": [
    "# 冒泡\n",
    "def smallestK(arr, k):\n",
    "    \"\"\"\n",
    "    :type arr: List[int]\n",
    "    :type k: int\n",
    "    :rtype: List[int]\n",
    "    \"\"\"\n",
    "    for i in range(k):\n",
    "        minn = arr[i]\n",
    "        mini = i\n",
    "        for j in range(i+1, len(arr), 1):\n",
    "            if minn > arr[j]:\n",
    "                minn = arr[j]\n",
    "                mini = j\n",
    "        tmp = arr[i]\n",
    "        arr[i] = arr[mini]\n",
    "        arr[mini] = tmp\n",
    "    return arr[:k]"
   ]
  },
  {
   "cell_type": "code",
   "execution_count": 61,
   "metadata": {},
   "outputs": [],
   "source": [
    "# 栈\n",
    "def smallestK(arr, k):\n",
    "    num_stack = []\n",
    "    for num in arr:\n",
    "        if len(num_stack) > k:\n",
    "            if num > num_stack[-1]:\n",
    "                continue;\n",
    "        j = len(num_stack) -1 \n",
    "        while j >= 0 and num < num_stack[j]:\n",
    "            j -= 1\n",
    "        num_stack.insert(j+1, num)\n",
    "    return num_stack[:k]"
   ]
  },
  {
   "cell_type": "markdown",
   "metadata": {},
   "source": [
    "快排注意： 直接变边界 low,high。返回0的情况。"
   ]
  },
  {
   "cell_type": "code",
   "execution_count": 93,
   "metadata": {},
   "outputs": [],
   "source": [
    "# 快排  返回后的序列没有顺序关系\n",
    "def quicklySort(arry, low, high):\n",
    "    i = low\n",
    "    if low < high:\n",
    "        tmp = arry[low]\n",
    "        i = low\n",
    "        j = high\n",
    "        while(i < j):\n",
    "            while i<j and tmp <= arry[j]:\n",
    "                j -= 1\n",
    "            arry[i] = arry[j]\n",
    "            while i<j and tmp >= arry[i]:\n",
    "                i += 1\n",
    "            arry[j] = arry[i]\n",
    "        arry[i] = tmp\n",
    "    return i\n",
    "# k = 2\n",
    "# 5 6 2 4 3 ->3 4 2 5 6 k_h=2-3-1=-2 -> 2 3 4 t=1 k_h=-2+1\n",
    "# 1,3,5,7,2,4,6,8 -> 1,2,3,5,7,4,6,8 ->1,2,3,4,5,7,6,8\n",
    "def smallestK(arr, k):\n",
    "    low = 0\n",
    "    high = len(arr) - 1\n",
    "    t = quicklySort(arr, low, high)\n",
    "    if k !=0:\n",
    "        while t+1 != k:\n",
    "            if t + 1 - k < 0:\n",
    "                low = t + 1\n",
    "                t = quicklySort(arr, low, high)\n",
    "            elif t + 1 - k > 0:\n",
    "                high = t - 1\n",
    "                t = quicklySort(arr, low, high)\n",
    "\n",
    "    return arr[:k]"
   ]
  },
  {
   "cell_type": "code",
   "execution_count": 95,
   "metadata": {},
   "outputs": [],
   "source": [
    "# 堆 堆是个完全二叉树\n",
    "# https://blog.csdn.net/qq_40587575/article/details/89290135"
   ]
  },
  {
   "cell_type": "code",
   "execution_count": 92,
   "metadata": {
    "scrolled": true
   },
   "outputs": [
    {
     "data": {
      "text/plain": [
       "[]"
      ]
     },
     "execution_count": 92,
     "metadata": {},
     "output_type": "execute_result"
    }
   ],
   "source": [
    "smallestK([1,3,5,7,2,4,6,8], 0)"
   ]
  },
  {
   "cell_type": "markdown",
   "metadata": {},
   "source": [
    "### No39 数组中出现超过一半的数字\n",
    "和上一题一样，本质都是找某个位置的数"
   ]
  },
  {
   "cell_type": "code",
   "execution_count": 2,
   "metadata": {},
   "outputs": [],
   "source": [
    "import random"
   ]
  },
  {
   "cell_type": "code",
   "execution_count": 7,
   "metadata": {},
   "outputs": [],
   "source": [
    "# 快排 partition\n",
    "def partition(arry, start, end):\n",
    "    small = start\n",
    "    if start < end:\n",
    "        index = random.randint(start, end) # 不能随机取，就取中间\n",
    "        tmp = arry[end]\n",
    "        arry[end] = arry[index]\n",
    "        arry[index] = tmp\n",
    "        \n",
    "        small = start - 1\n",
    "        for i in range(start, end):\n",
    "            if arry[i] < arry[end]:\n",
    "                small += 1\n",
    "                if small != i:\n",
    "                    tmp = arry[small]\n",
    "                    arry[small] = arry[i]\n",
    "                    arry[i] = tmp\n",
    "        small += 1\n",
    "        tmp = arry[end]\n",
    "        arry[end] = arry[small]\n",
    "        arry[small] = tmp\n",
    "    return small\n",
    "\n",
    "def majorityElement(nums):\n",
    "    \"\"\"\n",
    "    :type nums: List[int]\n",
    "    :rtype: int\n",
    "    \"\"\"\n",
    "    #找到中位数\n",
    "    middle = int(len(nums) / 2)\n",
    "    low = 0\n",
    "    high = len(nums) - 1\n",
    "    index = partition(nums, low, high)\n",
    "    while index != middle:\n",
    "        if index > middle:\n",
    "            high = index - 1\n",
    "            index = partition(nums, low, high)\n",
    "        else:\n",
    "            low = index + 1\n",
    "            index = partition(nums, low, high)\n",
    "    return nums[middle]"
   ]
  },
  {
   "cell_type": "code",
   "execution_count": 8,
   "metadata": {},
   "outputs": [],
   "source": [
    "# 考虑不同数字就低效， 出现超过一半的数字就会留下来\n",
    "def majorityElement(nums):\n",
    "    if len(nums) < 1:\n",
    "        return None\n",
    "    count = 0\n",
    "    tmp = 0\n",
    "    for num in nums:\n",
    "        if count == 0:\n",
    "            tmp = num\n",
    "            count = 1\n",
    "        else:\n",
    "            if tmp == num:\n",
    "                count += 1\n",
    "            else:\n",
    "                count -= 1\n",
    "    return tmp"
   ]
  },
  {
   "cell_type": "code",
   "execution_count": 9,
   "metadata": {},
   "outputs": [
    {
     "data": {
      "text/plain": [
       "3"
      ]
     },
     "execution_count": 9,
     "metadata": {},
     "output_type": "execute_result"
    }
   ],
   "source": [
    "majorityElement([3,2,3])"
   ]
  },
  {
   "cell_type": "markdown",
   "metadata": {},
   "source": [
    "### No42.连续子数组的最大和\n",
    "输入: nums = [-2,1,-3,4,-1,2,1,-5,4] <br>\n",
    "输出: 6 <br>\n",
    "解释: 连续子数组 [4,-1,2,1] 的和最大，为 6。<br>\n",
    "**hint** 动态规划  \n"
   ]
  },
  {
   "cell_type": "code",
   "execution_count": 13,
   "metadata": {},
   "outputs": [],
   "source": [
    "def maxSubArray(nums):\n",
    "    \"\"\"\n",
    "    :type nums: List[int]\n",
    "    :rtype: int\n",
    "    \"\"\"\n",
    "    if len(nums) == 0:\n",
    "        return None\n",
    "    dic={}\n",
    "    dic[0] = nums[0] #dic[i] = k 表示以i结尾的子数组和为k\n",
    "    max_sum = dic[0]\n",
    "    for i in range(1, len(nums), 1):\n",
    "        if dic[i-1] + nums[i] > nums[i]:\n",
    "            dic[i] = dic[i-1]+nums[i]\n",
    "        else:\n",
    "            dic[i] = nums[i]\n",
    "        if dic[i] > max_sum:\n",
    "            max_sum = dic[i]\n",
    "    return max_sum"
   ]
  },
  {
   "cell_type": "code",
   "execution_count": 14,
   "metadata": {},
   "outputs": [
    {
     "data": {
      "text/plain": [
       "6"
      ]
     },
     "execution_count": 14,
     "metadata": {},
     "output_type": "execute_result"
    }
   ],
   "source": [
    "maxSubArray([-2,1,-3,4,-1,2,1,-5,4])"
   ]
  },
  {
   "cell_type": "markdown",
   "metadata": {},
   "source": [
    "### 72. 编辑距离"
   ]
  },
  {
   "cell_type": "code",
   "execution_count": 2,
   "metadata": {},
   "outputs": [],
   "source": [
    "# %load ../vs_cpp/72.编辑距离.py\n",
    "#\n",
    "# @lc app=leetcode.cn id=72 lang=python3\n",
    "#\n",
    "# [72] 编辑距离\n",
    "# badcase: i走完s1， 或者j走完s2.\n",
    "# 状态： s1, s2剩余子串\n",
    "# 选择： 如果 s1[i] == s2[j]: skip, i+1,j+1;  否则：（插入、删除、替换）三选一\n",
    "# 【hint】\n",
    "# 两个字符串动归问题，一般用2个指针 i, j 分别指向两个字符串的最后，然后一步步往前走。\n",
    "# 递归会超时， 加一个备忘录\n",
    "# 动归的写法，s1 s2都需要加一个空串（对应badcase)。\n",
    "#\n",
    "\n",
    "# @lc code=start\n",
    "class Solution:\n",
    "    # 动归写法\n",
    "    def minDistance(self, word1: str, word2: str) -> int:\n",
    "        len1 = len(word1)\n",
    "        len2 = len(word2)\n",
    "        dp = [[9999 for _ in range(len2+1)] for _ in range(len1+1)]\n",
    "        for i in range(len1+1):\n",
    "            dp[i][0] = i \n",
    "        for j in range(len2+1):\n",
    "            dp[0][j] = j\n",
    "        dp[0][0] =0\n",
    "        for i in range(1, len1 +1,1):\n",
    "            for j in range(1, len2 + 1, 1):\n",
    "                if word1[i-1] == word2[j-1]:\n",
    "                    dp[i][j] = dp[i-1][j-1]\n",
    "                else:\n",
    "                    dp[i][j] = min(dp[i][j-1] + 1, dp[i-1][j-1] + 1, dp[i-1][j] + 1)\n",
    "        return dp[len1][len2]\n",
    "\n",
    "        \n",
    "    # 递归写法    \n",
    "    def minDistance2(self, word1: str, word2: str) -> int:\n",
    "        memo = {}\n",
    "        def dp(i, j):\n",
    "            if (i, j) in memo:\n",
    "                return memo[(i, j)]\n",
    "            if i ==-1:\n",
    "                return j+1\n",
    "            elif j == -1:\n",
    "                return  i+1\n",
    "            if word1[i] == word2[j]:\n",
    "                memo[(i, j)] = dp(i-1, j-1)\n",
    "                return memo[(i, j)] \n",
    "            else:\n",
    "                cur_min = min(dp(i, j-1) + 1, # 插入\n",
    "                dp(i-1, j-1)+1,  # 替换\n",
    "                dp(i-1, j) +1 )  # 删除\n",
    "\n",
    "                memo[(i, j)] = cur_min\n",
    "                return memo[(i, j)]\n",
    "            \n",
    "        return dp(len(word1) -1, len(word2)-1)\n",
    "\n",
    "\n",
    "\n",
    "# @lc code=end"
   ]
  },
  {
   "cell_type": "markdown",
   "metadata": {},
   "source": [
    "### 300. 最长递增子序列"
   ]
  },
  {
   "cell_type": "code",
   "execution_count": null,
   "metadata": {},
   "outputs": [],
   "source": [
    "# %load ../vs_cpp/300.最长递增子序列.py\n",
    "#\n",
    "# @lc app=leetcode.cn id=300 lang=python3\n",
    "#\n",
    "# [300] 最长递增子序列\n",
    "# badcase & 初始值:  初始dp[i] = 1\n",
    "# 状态: 已知dp[0..i-1]的结果， 求dp[i]\n",
    "# 选择： 对小于nums[i]的数，找到最小子序列+1\n",
    "# dp[i] 以num[i]为结尾的最长递增子序列的长度\n",
    "#\n",
    "\n",
    "# @lc code=start\n",
    "class Solution:\n",
    "    # 二分查找\n",
    "    def lengthOfLIS(self, nums: List[int]) -> int:\n",
    "        top = []\n",
    "\n",
    "        for i in range(0, len(nums), 1):\n",
    "            left = 0\n",
    "            right = len(top) - 1\n",
    "            target = nums[i]\n",
    "            while left <= right:\n",
    "                mid = left + int((right - left) / 2)\n",
    "                if top[mid] < target:\n",
    "                    left = mid + 1\n",
    "                elif top[mid] > target:\n",
    "                    right = mid - 1\n",
    "                else:\n",
    "                    right = mid - 1  # 收缩右边界\n",
    "            \n",
    "            if left >= len(top):\n",
    "                top.append(nums[i])\n",
    "            else:\n",
    "                top[left] = nums[i]\n",
    "        \n",
    "        return len(top)\n",
    "\n",
    "\n",
    "    # 动归写法\n",
    "    def lengthOfLIS2(self, nums: List[int]) -> int:\n",
    "        # dp[i] 以num[i]为结尾的最长递增子序列的长度\n",
    "        dp = [1 for _ in range(len(nums))]\n",
    "        for i in range(1, len(nums), 1):\n",
    "            for j in range(0, i, 1):\n",
    "                if nums[i] > nums[j]:\n",
    "                    dp[i] = max(dp[i], dp[j] + 1)\n",
    "        \n",
    "        m = 1\n",
    "        for val in dp:\n",
    "            m = max(val, m)\n",
    "        return m\n",
    "\n",
    "# @lc code=end\n",
    "\n"
   ]
  },
  {
   "cell_type": "markdown",
   "metadata": {},
   "source": [
    "#### No.14 剪绳子\n",
    "给你一根长度为 n 的绳子，请把绳子剪成整数长度的 m 段（m、n都是整数，n>1并且m>1），每段绳子的长度记为 k[0],k[1]...k[m] 。请问 k[0]*k[1]*...*k[m] 可能的最大乘积是多少？例如，当绳子的长度是8时，我们把它剪成长度分别为2、3、3的三段，此时得到的最大乘积是18。\n",
    "\n",
    "**示例 1：**\n",
    "输入: 2<br>\n",
    "输出: 1<br>\n",
    "解释: 2 = 1 + 1, 1 × 1 = 1<br>\n",
    "\n",
    "**示例 2:**<br>\n",
    "输入: 10<br>\n",
    "输出: 36<br>\n",
    "解释: 10 = 3 + 3 + 4, 3 × 3 × 4 = 36<br>\n",
    "\n",
    "提示： 2 <= n <= 58"
   ]
  },
  {
   "cell_type": "code",
   "execution_count": 5,
   "metadata": {},
   "outputs": [],
   "source": [
    "def cuttingRope(n):\n",
    "    \"\"\"\n",
    "    :type n: int\n",
    "    :rtype: int\n",
    "    \"\"\"\n",
    "    max_mul = 0\n",
    "    for m in range(2, n+1, 1):     #n=11 m=3  3*4*4 => 3*opt(n=8)\n",
    "        length = n\n",
    "        mul = 1\n",
    "        for k in range(m, 0, -1):   \n",
    "            tmp_len = int(length / k)\n",
    "            length = length - tmp_len\n",
    "            mul = mul * tmp_len\n",
    "        if mul > max_mul:\n",
    "            max_mul = mul\n",
    "    return max_mul\n"
   ]
  },
  {
   "cell_type": "code",
   "execution_count": null,
   "metadata": {},
   "outputs": [],
   "source": []
  }
 ],
 "metadata": {
  "kernelspec": {
   "display_name": "Python 3",
   "language": "python",
   "name": "python3"
  },
  "language_info": {
   "codemirror_mode": {
    "name": "ipython",
    "version": 3
   },
   "file_extension": ".py",
   "mimetype": "text/x-python",
   "name": "python",
   "nbconvert_exporter": "python",
   "pygments_lexer": "ipython3",
   "version": "3.8.3"
  }
 },
 "nbformat": 4,
 "nbformat_minor": 2
}
