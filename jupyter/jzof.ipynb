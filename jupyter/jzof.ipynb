{
 "cells": [
  {
   "cell_type": "code",
   "execution_count": 63,
   "metadata": {},
   "outputs": [],
   "source": [
    "# 快排\n",
    "def quicklySort(arry, low, high):\n",
    "    if low < high:\n",
    "        tmp = arry[low]\n",
    "        i = low\n",
    "        j = high\n",
    "        while(i < j):\n",
    "            while i<j and tmp <= arry[j]:\n",
    "                j -= 1\n",
    "            arry[i] = arry[j]\n",
    "            while i<j and tmp >= arry[i]:\n",
    "                i += 1\n",
    "            arry[j] = arry[i]\n",
    "        arry[i] = tmp\n",
    "        quicklySort(arry, low, i - 1)\n",
    "        quicklySort(arry, i + 1, high)"
   ]
  },
  {
   "cell_type": "code",
   "execution_count": 96,
   "metadata": {},
   "outputs": [],
   "source": [
    "# 快排2\n"
   ]
  },
  {
   "cell_type": "markdown",
   "metadata": {},
   "source": [
    "# easy"
   ]
  },
  {
   "cell_type": "markdown",
   "metadata": {},
   "source": [
    "#### No.3 数组中的重复数字\n",
    "在一个长度为 n 的数组 nums 里的所有数字都在 0～n-1 的范围内。数组中某些数字是重复的，但不知道有几个数字重复了，也不知道每个数字重复了几次。请找出数组中任意一个重复的数字。<br>\n",
    "输入：[2, 3, 1, 0, 2, 5, 3] <br>\n",
    "输出：2 或 3 "
   ]
  },
  {
   "cell_type": "markdown",
   "metadata": {},
   "source": [
    "1.创建O(n)数组，时间复杂度O(n)"
   ]
  },
  {
   "cell_type": "markdown",
   "metadata": {},
   "source": [
    "2.改变数组，用值和下标的关系"
   ]
  },
  {
   "cell_type": "code",
   "execution_count": 12,
   "metadata": {},
   "outputs": [],
   "source": [
    "def findRepeatNumber(nums):\n",
    "    \"\"\"\n",
    "    :type nums: List[int]\n",
    "    :rtype: int\n",
    "    \"\"\"\n",
    "    if len(nums) == 0:\n",
    "        return -1\n",
    "    index = 0\n",
    "    while(index < len(nums)):\n",
    "        while(nums[index] != index and nums[index]!=nums[nums[index]]):\n",
    "            tmp = nums[nums[index]]\n",
    "            nums[nums[index]] = nums[index]\n",
    "            nums[index] = tmp\n",
    "        if nums[index] == index:\n",
    "            index += 1\n",
    "        else:\n",
    "            return nums[index]"
   ]
  },
  {
   "cell_type": "markdown",
   "metadata": {},
   "source": [
    "3.题目变现:在一个长度为 n 的数组 nums 里的所有数字都在 0～n-1 的范围内。<br>\n",
    "不改变数组，二分查找 (感觉这个解法不好，没有意义)"
   ]
  },
  {
   "cell_type": "code",
   "execution_count": 57,
   "metadata": {},
   "outputs": [],
   "source": [
    "def findRepeatNumber(nums):\n",
    "    \"\"\"\n",
    "    :type nums: List[int]\n",
    "    :rtype: int\n",
    "    \"\"\"\n",
    "    low = 0\n",
    "    high = len(nums) - 1\n",
    "    middle = int((low + high)/2)\n",
    "    while low <= high:\n",
    "        if numCount(nums, low, middle) > middle-low+1:\n",
    "            high = middle\n",
    "            middle = int((low+high)/2)\n",
    "        else:\n",
    "            low = middle + 1\n",
    "            middle = int((low+high)/2)\n",
    "        if (low == high):\n",
    "            if numCount(nums, low, middle) > 1:\n",
    "                return low\n",
    "            else:\n",
    "                break\n",
    "\n",
    "def numCount(nums, low, high):\n",
    "    count = 0\n",
    "    for num in nums:\n",
    "        if num <= high and num>=low:\n",
    "            count+=1\n",
    "    return count"
   ]
  },
  {
   "cell_type": "code",
   "execution_count": 58,
   "metadata": {},
   "outputs": [],
   "source": [
    "findRepeatNumber([0, 1, 2, 0, 4, 5, 6, 7, 8, 9])      "
   ]
  },
  {
   "cell_type": "markdown",
   "metadata": {},
   "source": [
    "#### No.7 重建二叉树\n",
    "输入某二叉树的前序遍历和中序遍历的结果，请重建该二叉树。假设输入的前序遍历和中序遍历的结果中都不含重复的数字。<br>\n",
    "前序遍历 preorder = [3,9,20,15,7]<br>\n",
    "中序遍历 inorder = [9,3,15,20,7]"
   ]
  },
  {
   "cell_type": "code",
   "execution_count": 120,
   "metadata": {},
   "outputs": [],
   "source": [
    "class TreeNode(object):\n",
    "    def __init__(self, x):\n",
    "        self.val = x\n",
    "        self.left = None\n",
    "        self.right = None\n",
    "def buildTree(preorder, inorder):\n",
    "    \"\"\"\n",
    "    :type preorder: List[int]\n",
    "    :type inorder: List[int]\n",
    "    :rtype: TreeNode\n",
    "    \"\"\"\n",
    "    if len(preorder)!=len(inorder) or len(preorder) <=0:\n",
    "        return None\n",
    "    return buildRoot(preorder, inorder, 0, len(preorder)-1, 0, len(inorder)-1)\n",
    "\n",
    "def buildRoot(preorder, inorder, preStart, preEnd, inStart, inEnd):\n",
    "    root = TreeNode(preorder[preStart])\n",
    "    if preStart==preEnd and inStart== inEnd:\n",
    "        return root\n",
    "    rootInorderIndex = inStart\n",
    "    for rootInorderIndex in range(inStart, inEnd+1, 1):\n",
    "        if inorder[rootInorderIndex] == preorder[preStart]:\n",
    "            break\n",
    "    leftLength = rootInorderIndex - inStart\n",
    "#     print(rootInorderIndex, leftLength, preStart, preEnd, inStart, inEnd, s)\n",
    "    if leftLength > 0:\n",
    "        root.left = buildRoot(preorder, inorder, preStart+1, preStart+leftLength, inStart, rootInorderIndex-1)\n",
    "    if leftLength < preEnd - preStart:\n",
    "        root.right = buildRoot(preorder, inorder, preStart+1+leftLength, preEnd, rootInorderIndex+1, inEnd)\n",
    "    return root"
   ]
  },
  {
   "cell_type": "markdown",
   "metadata": {},
   "source": [
    "注意：判断是否需要新建左右子树，即 if leftLength > 0: 部分， 否则指针会end > start"
   ]
  },
  {
   "cell_type": "code",
   "execution_count": 119,
   "metadata": {},
   "outputs": [],
   "source": [
    "root=buildTree([],[])"
   ]
  },
  {
   "cell_type": "markdown",
   "metadata": {},
   "source": [
    "#### No.10斐波那契数"
   ]
  },
  {
   "cell_type": "markdown",
   "metadata": {},
   "source": [
    "1. 递归解法太低效了，重复计算太多。参考labuladong的动态规划解法。\n",
    "2. 等同于青蛙跳台阶， 青蛙一次可以调1级台阶或者2级台阶，问n级台阶一共有多少跳法。 f(n)=f(n-1)+f(n-2)"
   ]
  },
  {
   "cell_type": "code",
   "execution_count": 126,
   "metadata": {},
   "outputs": [],
   "source": [
    "def fib(n):\n",
    "    \"\"\"\n",
    "    :type n: int\n",
    "    :rtype: int\n",
    "    \"\"\"\n",
    "    f1=0\n",
    "    f2=1\n",
    "    if n == 0:\n",
    "        return 0\n",
    "    for i in range(2, n+1, 1):\n",
    "        f = f1 + f2\n",
    "        f1 = f2\n",
    "        f2 = f\n",
    "    return f2%1000000007"
   ]
  },
  {
   "cell_type": "code",
   "execution_count": 127,
   "metadata": {},
   "outputs": [
    {
     "data": {
      "text/plain": [
       "2"
      ]
     },
     "execution_count": 127,
     "metadata": {},
     "output_type": "execute_result"
    }
   ],
   "source": [
    "fib(3)"
   ]
  },
  {
   "cell_type": "markdown",
   "metadata": {},
   "source": [
    "#### No.11旋转数组最小的值  先增后减数组最小值 二分查找"
   ]
  },
  {
   "cell_type": "code",
   "execution_count": 133,
   "metadata": {},
   "outputs": [],
   "source": [
    "def minArray(numbers):\n",
    "    \"\"\"\n",
    "    :type numbers: List[int]\n",
    "    :rtype: int\n",
    "    \"\"\"\n",
    "    low = 0\n",
    "    high = len(numbers) - 1\n",
    "    middle = 0\n",
    "    while numbers[low] >= numbers[high] and low!=high:\n",
    "        if high - low ==1:\n",
    "            middle = high\n",
    "            break\n",
    "        middle = int(low+high)/2\n",
    "        if numbers[middle] == numbers[low] and numbers[low] == numbers[high]:\n",
    "            return order(numbers, low, high)\n",
    "        if numbers[middle] >= numbers[low]:\n",
    "            low = middle\n",
    "        elif numbers[middle] <= numbers[high]:\n",
    "            high = middle\n",
    "    return numbers[middle]\n",
    "\n",
    "def order(numbers, low, high):\n",
    "    mins = numbers[high]\n",
    "    for k in range(low, high, 1):\n",
    "        if mins>numbers[k]:\n",
    "            mins = numbers[k]\n",
    "    return mins"
   ]
  },
  {
   "cell_type": "code",
   "execution_count": 135,
   "metadata": {},
   "outputs": [
    {
     "data": {
      "text/plain": [
       "0"
      ]
     },
     "execution_count": 135,
     "metadata": {},
     "output_type": "execute_result"
    }
   ],
   "source": [
    "minArray([10, 0, 10, 10 ,10])"
   ]
  },
  {
   "cell_type": "markdown",
   "metadata": {},
   "source": [
    "**hint**: \n",
    "1. 进入循环需要满足num[low]>=num[high]  \n",
    "2. 有可能数组把前0个放到了后面。 这时返回0\n",
    "3. while内赋值部分 保证左右一直向中间靠拢，直到high-low==1\n",
    "4. 如果num[middle]=num[low]=num[high] 必须顺序查找一遍"
   ]
  },
  {
   "cell_type": "markdown",
   "metadata": {},
   "source": [
    "#### No.15 请实现一个函数，输入一个整数，输出该数二进制表示中 1 的个数。"
   ]
  },
  {
   "cell_type": "code",
   "execution_count": 138,
   "metadata": {},
   "outputs": [],
   "source": [
    "def hammingWeight(n):\n",
    "    \"\"\"\n",
    "    :type n: int\n",
    "    :rtype: int\n",
    "    \"\"\"\n",
    "    count = 0\n",
    "    while(n):\n",
    "        count += 1\n",
    "        n = (n-1)&n\n",
    "    return count"
   ]
  },
  {
   "cell_type": "code",
   "execution_count": 139,
   "metadata": {},
   "outputs": [
    {
     "data": {
      "text/plain": [
       "2"
      ]
     },
     "execution_count": 139,
     "metadata": {},
     "output_type": "execute_result"
    }
   ],
   "source": [
    "hammingWeight(5)"
   ]
  },
  {
   "cell_type": "markdown",
   "metadata": {},
   "source": [
    "**hint**<br>\n",
    "位运算技巧： (n-1)&n 相当于把n最右边的1变成0"
   ]
  },
  {
   "cell_type": "markdown",
   "metadata": {},
   "source": [
    "#### No.25 合并递增排序链表"
   ]
  },
  {
   "cell_type": "code",
   "execution_count": 146,
   "metadata": {},
   "outputs": [],
   "source": [
    "class ListNode(object):\n",
    "    def __init__(self, x):\n",
    "        self.val = x\n",
    "        self.next = None\n",
    "        \n",
    "def mergeTwoLists(l1, l2):\n",
    "    \"\"\"\n",
    "    :type l1: ListNode\n",
    "    :type l2: ListNode\n",
    "    :rtype: ListNode\n",
    "    \"\"\"\n",
    "    if l1 is None:\n",
    "            return l2\n",
    "    elif l2 is None:\n",
    "        return l1\n",
    "    head = None\n",
    "    if l1.val < l2.val:\n",
    "        head = l1\n",
    "        head.next = mergeTwoLists(l1.next, l2)\n",
    "    else:\n",
    "        head = l2\n",
    "        l2.next = mergeTwoLists(l1, l2.next)\n",
    "    return head"
   ]
  },
  {
   "cell_type": "code",
   "execution_count": 147,
   "metadata": {},
   "outputs": [
    {
     "name": "stdout",
     "output_type": "stream",
     "text": [
      "1\n",
      "1\n",
      "2\n",
      "3\n",
      "4\n",
      "4\n"
     ]
    }
   ],
   "source": [
    "n1 = ListNode(1)\n",
    "n2 = ListNode(2)\n",
    "n3 = ListNode(4)\n",
    "n4 = ListNode(1)\n",
    "n5 = ListNode(3)\n",
    "n6 = ListNode(4)\n",
    "n1.next = n2\n",
    "n2.next = n3\n",
    "n4.next = n5\n",
    "n5.next = n6\n",
    "head = mergeTwoLists(n1, n4)\n",
    "while(head!=None):\n",
    "    print(head.val)\n",
    "    head = head.next"
   ]
  },
  {
   "cell_type": "markdown",
   "metadata": {},
   "source": [
    "#### No.26 判断树的子结构\n",
    " 需要写树的递归遍历"
   ]
  },
  {
   "cell_type": "code",
   "execution_count": 154,
   "metadata": {},
   "outputs": [],
   "source": [
    "class TreeNode(object):\n",
    "    def __init__(self, x):\n",
    "        self.val = x\n",
    "        self.left = None\n",
    "        self.right = None\n",
    "\n",
    "def isSubStructure(A, B):\n",
    "    \"\"\"\n",
    "    :type A: TreeNode\n",
    "    :type B: TreeNode\n",
    "    :rtype: bool\n",
    "    \"\"\"\n",
    "    if A is not None and B is not None:\n",
    "        if A.val == B.val:\n",
    "            return isEqual(A, B)\n",
    "        else:\n",
    "            return isSubStructure(A.left, B) or isSubStructure(A.right, B)\n",
    "    else:\n",
    "        return False\n",
    "def isEqual(A, B):\n",
    "    if B is None:\n",
    "        return True\n",
    "    elif A is None:\n",
    "        return False\n",
    "    elif A.val == B.val:\n",
    "        return isEqual(A.left, B.left) and isEqual(A.right, B.right)\n",
    "    else:\n",
    "        return False"
   ]
  },
  {
   "cell_type": "code",
   "execution_count": 156,
   "metadata": {},
   "outputs": [
    {
     "data": {
      "text/plain": [
       "False"
      ]
     },
     "execution_count": 156,
     "metadata": {},
     "output_type": "execute_result"
    }
   ],
   "source": [
    "n1 = TreeNode(3)\n",
    "n2 = TreeNode(4)\n",
    "n3 = TreeNode(5)\n",
    "n4 = TreeNode(1)\n",
    "n5 = TreeNode(2)\n",
    "n6 = TreeNode(4)\n",
    "n7 = TreeNode(1)\n",
    "n1.left = n2\n",
    "n1.right = n3\n",
    "n2.left = n4\n",
    "n2.right = n5\n",
    "n6.right = n7\n",
    "isSubStructure(n1, n6)"
   ]
  },
  {
   "cell_type": "markdown",
   "metadata": {},
   "source": [
    "#### no.27 二叉树的镜像\n",
    "镜像输入：<br>\n",
    "&nbsp;&nbsp;&nbsp;&nbsp;4 <br>\n",
    "&nbsp;&nbsp;&nbsp;/&nbsp;&nbsp;\\ <br>\n",
    "&nbsp;&nbsp;2&nbsp;&nbsp;&nbsp;7 <br>\n",
    "&nbsp;/ \\ &nbsp;/ \\ <br>\n",
    "1   3 6   9<br>\n",
    "镜像输出：<br>\n",
    "&nbsp;&nbsp;&nbsp;&nbsp;4 <br>\n",
    "&nbsp;&nbsp;&nbsp;/&nbsp;&nbsp;\\ <br>\n",
    "&nbsp;&nbsp;7&nbsp;&nbsp;&nbsp;2 <br>\n",
    "&nbsp;/ \\ &nbsp;/ \\ <br>\n",
    "9   6 3   1<br>\n",
    "\n",
    "**示例**<br>\n",
    "输入：root = [4,2,7,1,3,6,9]<br>\n",
    "输出：[4,7,2,9,6,3,1]"
   ]
  },
  {
   "cell_type": "markdown",
   "metadata": {},
   "source": [
    "#### 1. 打印的版本"
   ]
  },
  {
   "cell_type": "code",
   "execution_count": 28,
   "metadata": {},
   "outputs": [],
   "source": [
    "# Definition for a binary tree node.\n",
    "class TreeNode(object):\n",
    "    def __init__(self, x):\n",
    "        self.val = x\n",
    "        self.left = None\n",
    "        self.right = None\n",
    "\n",
    "def mirrorTree(root):\n",
    "    \"\"\"\n",
    "    :type root: TreeNode\n",
    "    :rtype: TreeNode\n",
    "    \"\"\"\n",
    "    res=[]\n",
    "    if root is not None:\n",
    "        res.append(root.val)\n",
    "        treeSearch(root, res)\n",
    "    return res\n",
    "\n",
    "def treeSearch(root, res):\n",
    "    if root.right is not None:\n",
    "        res.append(root.right.val)\n",
    "    if root.left is not None:\n",
    "        res.append(root.left.val)\n",
    "    if root.right is not None:\n",
    "        treeSearch(root.right, res)\n",
    "    if root.left is not None:\n",
    "        treeSearch(root.left, res)"
   ]
  },
  {
   "cell_type": "markdown",
   "metadata": {},
   "source": [
    "#### 2.在原树上翻转"
   ]
  },
  {
   "cell_type": "code",
   "execution_count": null,
   "metadata": {},
   "outputs": [],
   "source": [
    "def mirrorTree(root):\n",
    "    \"\"\"\n",
    "    :type root: TreeNode\n",
    "    :rtype: TreeNode\n",
    "    \"\"\"\n",
    "    if root is None:\n",
    "        return\n",
    "    tmp = root.right\n",
    "    root.right = root.left\n",
    "    root.left = tmp\n",
    "    \n",
    "    if root.left is not None:\n",
    "        mirrorTree(root.left)\n",
    "    if root.right is not None:\n",
    "        mirrorTree(root.right)"
   ]
  },
  {
   "cell_type": "code",
   "execution_count": 29,
   "metadata": {},
   "outputs": [],
   "source": [
    "node4=TreeNode(4)\n",
    "node2=TreeNode(2)\n",
    "node7=TreeNode(7)\n",
    "node1=TreeNode(1)\n",
    "node3=TreeNode(3)\n",
    "node6=TreeNode(6)\n",
    "node9=TreeNode(9)\n",
    "\n",
    "node4.left = node2\n",
    "node4.right=node7\n",
    "node2.left=node1\n",
    "node2.right=node3\n",
    "node7.left=node6\n",
    "node7.right=node9"
   ]
  },
  {
   "cell_type": "code",
   "execution_count": 30,
   "metadata": {},
   "outputs": [
    {
     "data": {
      "text/plain": [
       "[4, 7, 2, 9, 6, 3, 1]"
      ]
     },
     "execution_count": 30,
     "metadata": {},
     "output_type": "execute_result"
    }
   ],
   "source": [
    "mirrorTree(node4)"
   ]
  },
  {
   "cell_type": "markdown",
   "metadata": {},
   "source": [
    "#### No.35 复杂链表的复制\n",
    "输入：head = [[7,null],[13,0],[11,4],[10,2],[1,0]] <br>\n",
    "输出：[[7,null],[13,0],[11,4],[10,2],[1,0]]<br>\n",
    "**hint：**一定要注意链表操作空指针的情况， 在纸上画一画，看是不是有空指针。 弄清楚各个指针具体移动情况"
   ]
  },
  {
   "cell_type": "code",
   "execution_count": 101,
   "metadata": {},
   "outputs": [],
   "source": [
    "# Definition for a Node.\n",
    "class Node:\n",
    "    def __init__(self, x, next=None, random=None):\n",
    "        self.val = int(x)\n",
    "        self.next = next\n",
    "        self.random = random\n",
    "\n",
    "def copyRandomList(head):\n",
    "    \"\"\"\n",
    "    :type head: Node\n",
    "    :rtype: Node\n",
    "    \"\"\"\n",
    "    \n",
    "    if head is None:\n",
    "        return\n",
    "\n",
    "    node = head\n",
    "\n",
    "    while node is not None:\n",
    "        node_copy = Node(node.val)\n",
    "        node_copy.next = node.next\n",
    "        node.next = node_copy\n",
    "        node = node_copy.next\n",
    "    \n",
    "    node = head\n",
    "    while node is not None:\n",
    "        if node.random is not None:\n",
    "            node.next.random = node.random.next\n",
    "        node = node.next.next\n",
    "\n",
    "    head_new = head.next\n",
    "    node_new = head_new\n",
    "    head.next = head_new.next\n",
    "    node = head_new.next\n",
    "    while node is not None:\n",
    "        node_new.next = node.next\n",
    "        node_new = node_new.next\n",
    "        node.next = node_new.next\n",
    "        node = node.next\n",
    "    return head, head_new"
   ]
  },
  {
   "cell_type": "code",
   "execution_count": 100,
   "metadata": {},
   "outputs": [
    {
     "name": "stdout",
     "output_type": "stream",
     "text": [
      "7\n",
      "13\n",
      "11\n",
      "10\n",
      "1\n",
      "----\n",
      "7 null\n",
      "13 7\n",
      "11 1\n",
      "10 11\n",
      "1 7\n",
      "---\n",
      "8 null\n",
      "14 8\n",
      "12 2\n",
      "11 12\n",
      "2 8\n"
     ]
    }
   ],
   "source": [
    "node7 = Node(7)\n",
    "node13 = Node(13)\n",
    "node11= Node(11)\n",
    "node10 = Node(10)\n",
    "node1 = Node(1)\n",
    "node7.next=node13\n",
    "node13.next=node11\n",
    "node11.next=node10\n",
    "node10.next=node1\n",
    "node13.random=node7\n",
    "node11.random=node1\n",
    "node10.random=node11\n",
    "node1.random=node7\n",
    "node = node7\n",
    "while node is not None:\n",
    "    print node.val\n",
    "    node = node.next\n",
    "c, c_new=copyRandomList(node7)\n",
    "print('----')\n",
    "while c is not None:\n",
    "    if c.random is not None:\n",
    "        print c.val, c.random.val\n",
    "    else:\n",
    "        print c.val, 'null'\n",
    "    c = c.next\n",
    "print(\"---\")\n",
    "while c_new is not None:\n",
    "    if c_new.random is not None:\n",
    "        print c_new.val, c_new.random.val\n",
    "    else:\n",
    "        print c_new.val, \"null\"\n",
    "    c_new = c_new.next"
   ]
  },
  {
   "cell_type": "markdown",
   "metadata": {},
   "source": [
    "#### No20. 括号匹配\n",
    "给定一个只包括 '('，')'，'{'，'}'，'['，']' 的字符串，判断字符串是否有效。\n"
   ]
  },
  {
   "cell_type": "code",
   "execution_count": 23,
   "metadata": {},
   "outputs": [],
   "source": [
    "# 栈 依次匹配弹出\n",
    "def isValid(s):\n",
    "    \"\"\"\n",
    "    :type s: str\n",
    "    :rtype: bool\n",
    "    \"\"\"\n",
    "    ch_map = {'(':')','{':'}','[':']'}\n",
    "    str_map=[]\n",
    "    for ch in s:\n",
    "        if ch in ch_map:\n",
    "            str_map.append(ch)\n",
    "        elif ch in ch_map.values():\n",
    "            if len(str_map) >0 and ch_map[str_map[-1]] == ch:\n",
    "                str_map.pop()\n",
    "            else:\n",
    "                return False\n",
    "        else:\n",
    "            return False\n",
    "    if len(str_map) == 0:\n",
    "        return True\n",
    "    else:\n",
    "        return False"
   ]
  },
  {
   "cell_type": "code",
   "execution_count": 21,
   "metadata": {},
   "outputs": [],
   "source": [
    "# 栈2， 插入右括号\n",
    "def isValid(s):\n",
    "    ch_map = {'(':')', '{':'}','[':']'}\n",
    "    str_map = []\n",
    "    for ch in s:\n",
    "        if ch in ch_map:\n",
    "            str_map.append(ch_map[ch])\n",
    "        elif len(str_map)==0 or str_map.pop()!=ch:\n",
    "                return False\n",
    "    return True"
   ]
  },
  {
   "cell_type": "code",
   "execution_count": 22,
   "metadata": {},
   "outputs": [
    {
     "data": {
      "text/plain": [
       "False"
      ]
     },
     "execution_count": 22,
     "metadata": {},
     "output_type": "execute_result"
    }
   ],
   "source": [
    "isValid(\"(]{}})\")"
   ]
  },
  {
   "cell_type": "markdown",
   "metadata": {},
   "source": [
    "#### No17-14 最小k个数\n",
    "给定一个只包括 '('，')'，'{'，'}'，'['，']' 的字符串，判断字符串是否有效。<br>\n",
    "1. 冒泡 超时\n",
    "2. 试下其他数据结构 栈？ 超时\n",
    "2. 树结构\n",
    "3. 快排"
   ]
  },
  {
   "cell_type": "code",
   "execution_count": 36,
   "metadata": {},
   "outputs": [],
   "source": [
    "# 冒泡\n",
    "def smallestK(arr, k):\n",
    "    \"\"\"\n",
    "    :type arr: List[int]\n",
    "    :type k: int\n",
    "    :rtype: List[int]\n",
    "    \"\"\"\n",
    "    for i in range(k):\n",
    "        minn = arr[i]\n",
    "        mini = i\n",
    "        for j in range(i+1, len(arr), 1):\n",
    "            if minn > arr[j]:\n",
    "                minn = arr[j]\n",
    "                mini = j\n",
    "        tmp = arr[i]\n",
    "        arr[i] = arr[mini]\n",
    "        arr[mini] = tmp\n",
    "    return arr[:k]"
   ]
  },
  {
   "cell_type": "code",
   "execution_count": 61,
   "metadata": {},
   "outputs": [],
   "source": [
    "# 栈\n",
    "def smallestK(arr, k):\n",
    "    num_stack = []\n",
    "    for num in arr:\n",
    "        if len(num_stack) > k:\n",
    "            if num > num_stack[-1]:\n",
    "                continue;\n",
    "        j = len(num_stack) -1 \n",
    "        while j >= 0 and num < num_stack[j]:\n",
    "            j -= 1\n",
    "        num_stack.insert(j+1, num)\n",
    "    return num_stack[:k]"
   ]
  },
  {
   "cell_type": "markdown",
   "metadata": {},
   "source": [
    "快排注意： 直接变边界 low,high。返回0的情况。"
   ]
  },
  {
   "cell_type": "code",
   "execution_count": 93,
   "metadata": {},
   "outputs": [],
   "source": [
    "# 快排  返回后的序列没有顺序关系\n",
    "def quicklySort(arry, low, high):\n",
    "    i = low\n",
    "    if low < high:\n",
    "        tmp = arry[low]\n",
    "        i = low\n",
    "        j = high\n",
    "        while(i < j):\n",
    "            while i<j and tmp <= arry[j]:\n",
    "                j -= 1\n",
    "            arry[i] = arry[j]\n",
    "            while i<j and tmp >= arry[i]:\n",
    "                i += 1\n",
    "            arry[j] = arry[i]\n",
    "        arry[i] = tmp\n",
    "    return i\n",
    "# k = 2\n",
    "# 5 6 2 4 3 ->3 4 2 5 6 k_h=2-3-1=-2 -> 2 3 4 t=1 k_h=-2+1\n",
    "# 1,3,5,7,2,4,6,8 -> 1,2,3,5,7,4,6,8 ->1,2,3,4,5,7,6,8\n",
    "def smallestK(arr, k):\n",
    "    low = 0\n",
    "    high = len(arr) - 1\n",
    "    t = quicklySort(arr, low, high)\n",
    "    if k !=0:\n",
    "        while t+1 != k:\n",
    "            if t + 1 - k < 0:\n",
    "                low = t + 1\n",
    "                t = quicklySort(arr, low, high)\n",
    "            elif t + 1 - k > 0:\n",
    "                high = t - 1\n",
    "                t = quicklySort(arr, low, high)\n",
    "\n",
    "    return arr[:k]"
   ]
  },
  {
   "cell_type": "code",
   "execution_count": 95,
   "metadata": {},
   "outputs": [],
   "source": [
    "# 堆 堆是个完全二叉树\n",
    "# https://blog.csdn.net/qq_40587575/article/details/89290135"
   ]
  },
  {
   "cell_type": "code",
   "execution_count": 92,
   "metadata": {
    "scrolled": true
   },
   "outputs": [
    {
     "data": {
      "text/plain": [
       "[]"
      ]
     },
     "execution_count": 92,
     "metadata": {},
     "output_type": "execute_result"
    }
   ],
   "source": [
    "smallestK([1,3,5,7,2,4,6,8], 0)"
   ]
  },
  {
   "cell_type": "markdown",
   "metadata": {},
   "source": [
    "### No39 数组中出现超过一半的数字\n",
    "和上一题一样，本质都是找某个位置的数"
   ]
  },
  {
   "cell_type": "code",
   "execution_count": 2,
   "metadata": {},
   "outputs": [],
   "source": [
    "import random"
   ]
  },
  {
   "cell_type": "code",
   "execution_count": 7,
   "metadata": {},
   "outputs": [],
   "source": [
    "# 快排 partition\n",
    "def partition(arry, start, end):\n",
    "    small = start\n",
    "    if start < end:\n",
    "        index = random.randint(start, end) # 不能随机取，就取中间\n",
    "        tmp = arry[end]\n",
    "        arry[end] = arry[index]\n",
    "        arry[index] = tmp\n",
    "        \n",
    "        small = start - 1\n",
    "        for i in range(start, end):\n",
    "            if arry[i] < arry[end]:\n",
    "                small += 1\n",
    "                if small != i:\n",
    "                    tmp = arry[small]\n",
    "                    arry[small] = arry[i]\n",
    "                    arry[i] = tmp\n",
    "        small += 1\n",
    "        tmp = arry[end]\n",
    "        arry[end] = arry[small]\n",
    "        arry[small] = tmp\n",
    "    return small\n",
    "\n",
    "def majorityElement(nums):\n",
    "    \"\"\"\n",
    "    :type nums: List[int]\n",
    "    :rtype: int\n",
    "    \"\"\"\n",
    "    #找到中位数\n",
    "    middle = int(len(nums) / 2)\n",
    "    low = 0\n",
    "    high = len(nums) - 1\n",
    "    index = partition(nums, low, high)\n",
    "    while index != middle:\n",
    "        if index > middle:\n",
    "            high = index - 1\n",
    "            index = partition(nums, low, high)\n",
    "        else:\n",
    "            low = index + 1\n",
    "            index = partition(nums, low, high)\n",
    "    return nums[middle]"
   ]
  },
  {
   "cell_type": "code",
   "execution_count": 8,
   "metadata": {},
   "outputs": [],
   "source": [
    "# 考虑不同数字就低效， 出现超过一半的数字就会留下来\n",
    "def majorityElement(nums):\n",
    "    if len(nums) < 1:\n",
    "        return None\n",
    "    count = 0\n",
    "    tmp = 0\n",
    "    for num in nums:\n",
    "        if count == 0:\n",
    "            tmp = num\n",
    "            count = 1\n",
    "        else:\n",
    "            if tmp == num:\n",
    "                count += 1\n",
    "            else:\n",
    "                count -= 1\n",
    "    return tmp"
   ]
  },
  {
   "cell_type": "code",
   "execution_count": 9,
   "metadata": {},
   "outputs": [
    {
     "data": {
      "text/plain": [
       "3"
      ]
     },
     "execution_count": 9,
     "metadata": {},
     "output_type": "execute_result"
    }
   ],
   "source": [
    "majorityElement([3,2,3])"
   ]
  },
  {
   "cell_type": "markdown",
   "metadata": {},
   "source": [
    "### No42.连续子数组的最大和\n",
    "输入: nums = [-2,1,-3,4,-1,2,1,-5,4] <br>\n",
    "输出: 6 <br>\n",
    "解释: 连续子数组 [4,-1,2,1] 的和最大，为 6。<br>\n",
    "**hint** 动态规划  \n"
   ]
  },
  {
   "cell_type": "code",
   "execution_count": 13,
   "metadata": {},
   "outputs": [],
   "source": [
    "def maxSubArray(nums):\n",
    "    \"\"\"\n",
    "    :type nums: List[int]\n",
    "    :rtype: int\n",
    "    \"\"\"\n",
    "    if len(nums) == 0:\n",
    "        return None\n",
    "    dic={}\n",
    "    dic[0] = nums[0] #dic[i] = k 表示以i结尾的子数组和为k\n",
    "    max_sum = dic[0]\n",
    "    for i in range(1, len(nums), 1):\n",
    "        if dic[i-1] + nums[i] > nums[i]:\n",
    "            dic[i] = dic[i-1]+nums[i]\n",
    "        else:\n",
    "            dic[i] = nums[i]\n",
    "        if dic[i] > max_sum:\n",
    "            max_sum = dic[i]\n",
    "    return max_sum"
   ]
  },
  {
   "cell_type": "code",
   "execution_count": 14,
   "metadata": {},
   "outputs": [
    {
     "data": {
      "text/plain": [
       "6"
      ]
     },
     "execution_count": 14,
     "metadata": {},
     "output_type": "execute_result"
    }
   ],
   "source": [
    "maxSubArray([-2,1,-3,4,-1,2,1,-5,4])"
   ]
  },
  {
   "cell_type": "code",
   "execution_count": null,
   "metadata": {},
   "outputs": [],
   "source": []
  }
 ],
 "metadata": {
  "kernelspec": {
   "display_name": "tf2",
   "language": "python",
   "name": "tf2"
  },
  "language_info": {
   "codemirror_mode": {
    "name": "ipython",
    "version": 2
   },
   "file_extension": ".py",
   "mimetype": "text/x-python",
   "name": "python",
   "nbconvert_exporter": "python",
   "pygments_lexer": "ipython2",
   "version": "2.7.16"
  }
 },
 "nbformat": 4,
 "nbformat_minor": 2
}
