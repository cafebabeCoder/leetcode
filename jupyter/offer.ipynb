{
 "cells": [
  {
   "cell_type": "markdown",
   "metadata": {},
   "source": [
    "# easy"
   ]
  },
  {
   "cell_type": "markdown",
   "metadata": {},
   "source": [
    "#### No.3 数组中的重复数字\n",
    "在一个长度为 n 的数组 nums 里的所有数字都在 0～n-1 的范围内。数组中某些数字是重复的，但不知道有几个数字重复了，也不知道每个数字重复了几次。请找出数组中任意一个重复的数字。<br>\n",
    "输入：[2, 3, 1, 0, 2, 5, 3] <br>\n",
    "输出：2 或 3 "
   ]
  },
  {
   "cell_type": "markdown",
   "metadata": {},
   "source": [
    "1.创建O(n)数组，时间复杂度O(n)"
   ]
  },
  {
   "cell_type": "markdown",
   "metadata": {},
   "source": [
    "2.改变数组，用值和下标的关系"
   ]
  },
  {
   "cell_type": "code",
   "execution_count": 12,
   "metadata": {},
   "outputs": [],
   "source": [
    "def findRepeatNumber(nums):\n",
    "    \"\"\"\n",
    "    :type nums: List[int]\n",
    "    :rtype: int\n",
    "    \"\"\"\n",
    "    if len(nums) == 0:\n",
    "        return -1\n",
    "    index = 0\n",
    "    while(index < len(nums)):\n",
    "        while(nums[index] != index and nums[index]!=nums[nums[index]]):\n",
    "            tmp = nums[nums[index]]\n",
    "            nums[nums[index]] = nums[index]\n",
    "            nums[index] = tmp\n",
    "        if nums[index] == index:\n",
    "            index += 1\n",
    "        else:\n",
    "            return nums[index]"
   ]
  },
  {
   "cell_type": "markdown",
   "metadata": {},
   "source": [
    "3.不改变数组，二分查找"
   ]
  },
  {
   "cell_type": "code",
   "execution_count": 14,
   "metadata": {},
   "outputs": [],
   "source": [
    "def findRepeatNumber(nums):\n",
    "    \"\"\"\n",
    "    :type nums: List[int]\n",
    "    :rtype: int\n",
    "    \"\"\""
   ]
  },
  {
   "cell_type": "code",
   "execution_count": 13,
   "metadata": {},
   "outputs": [
    {
     "data": {
      "text/plain": [
       "2"
      ]
     },
     "execution_count": 13,
     "metadata": {},
     "output_type": "execute_result"
    }
   ],
   "source": [
    "findRepeatNumber([2,3,1,0,2,5,3])      "
   ]
  },
  {
   "cell_type": "markdown",
   "metadata": {},
   "source": [
    "#### No.4 二维数组的查找\n",
    "在一个 n * m 的二维数组中，每一行都按照从左到右递增的顺序排序，每一列都按照从上到下递增的顺序排序。请完成一个函数，输入这样的一个二维数组和一个整数，判断数组中是否含有该整数。<br>\n",
    "现有矩阵 matrix 如下：<br>\n",
    "[[1,   4,  7, 11, 15],<br>\n",
    "  [2,   5,  8, 12, 19],<br>\n",
    "  [3,   6,  9, 16, 22],<br>\n",
    "  [10, 13, 14, 17, 24],<br>\n",
    "  [18, 21, 23, 26, 30]] <br>\n",
    "给定 target = 5，返回 true。 <br>\n",
    "给定 target = 20，返回 false。"
   ]
  },
  {
   "cell_type": "code",
   "execution_count": null,
   "metadata": {},
   "outputs": [],
   "source": []
  }
 ],
 "metadata": {
  "kernelspec": {
   "display_name": "tf2",
   "language": "python",
   "name": "tf2"
  },
  "language_info": {
   "codemirror_mode": {
    "name": "ipython",
    "version": 2
   },
   "file_extension": ".py",
   "mimetype": "text/x-python",
   "name": "python",
   "nbconvert_exporter": "python",
   "pygments_lexer": "ipython2",
   "version": "2.7.16"
  }
 },
 "nbformat": 4,
 "nbformat_minor": 2
}
