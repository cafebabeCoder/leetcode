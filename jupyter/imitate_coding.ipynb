{
 "cells": [
  {
   "cell_type": "markdown",
   "metadata": {},
   "source": [
    "#### No.14 剪绳子\n",
    "给你一根长度为 n 的绳子，请把绳子剪成整数长度的 m 段（m、n都是整数，n>1并且m>1），每段绳子的长度记为 k[0],k[1]...k[m] 。请问 k[0]*k[1]*...*k[m] 可能的最大乘积是多少？例如，当绳子的长度是8时，我们把它剪成长度分别为2、3、3的三段，此时得到的最大乘积是18。\n",
    "\n",
    "**示例 1：**\n",
    "输入: 2<br>\n",
    "输出: 1<br>\n",
    "解释: 2 = 1 + 1, 1 × 1 = 1<br>\n",
    "\n",
    "**示例 2:**<br>\n",
    "输入: 10<br>\n",
    "输出: 36<br>\n",
    "解释: 10 = 3 + 3 + 4, 3 × 3 × 4 = 36<br>\n",
    "\n",
    "提示： 2 <= n <= 58"
   ]
  },
  {
   "cell_type": "code",
   "execution_count": 27,
   "metadata": {},
   "outputs": [],
   "source": [
    "def cuttingRope(n):\n",
    "    \"\"\"\n",
    "    :type n: int\n",
    "    :rtype: int\n",
    "    \"\"\"\n",
    "    max_mul = 0\n",
    "    for m in range(2, n+1, 1):     #n=11 m=3  3*4*4 => 3*opt(n=8)\n",
    "        length = n\n",
    "        mul = 1\n",
    "        for k in range(m, 0, -1):   \n",
    "            tmp_len = int(length / k)\n",
    "            length = length - tmp_len\n",
    "            mul = mul * tmp_len\n",
    "        if mul > max_mul:\n",
    "            max_mul = mul\n",
    "    return max_mul\n"
   ]
  },
  {
   "cell_type": "code",
   "execution_count": 25,
   "metadata": {},
   "outputs": [
    {
     "data": {
      "text/plain": [
       "2"
      ]
     },
     "execution_count": 25,
     "metadata": {},
     "output_type": "execute_result"
    }
   ],
   "source": [
    "cuttingRope(3)"
   ]
  },
  {
   "cell_type": "code",
   "execution_count": null,
   "metadata": {},
   "outputs": [],
   "source": []
  }
 ],
 "metadata": {
  "kernelspec": {
   "display_name": "base",
   "language": "python",
   "name": "base"
  },
  "language_info": {
   "codemirror_mode": {
    "name": "ipython",
    "version": 2
   },
   "file_extension": ".py",
   "mimetype": "text/x-python",
   "name": "python",
   "nbconvert_exporter": "python",
   "pygments_lexer": "ipython2",
   "version": "2.7.16"
  }
 },
 "nbformat": 4,
 "nbformat_minor": 2
}
